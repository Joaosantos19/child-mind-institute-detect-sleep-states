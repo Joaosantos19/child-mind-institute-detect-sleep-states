{
 "cells": [
  {
   "cell_type": "markdown",
   "id": "f3268be0",
   "metadata": {},
   "source": [
    "# Kaggle Competition: Child Mind Institute - Detect Sleep States"
   ]
  },
  {
   "cell_type": "markdown",
   "id": "1c4e5da9",
   "metadata": {},
   "source": [
    "## Dataset Description\n",
    "The dataset comprises about 500 multi-day recordings of wrist-worn accelerometer data annotated with two event types: onset, the beginning of sleep, and wakeup, the end of sleep. Your task is to detect the occurrence of these two events in the accelerometer series.\n",
    "\n",
    "While sleep logbooks remain the gold-standard, when working with accelerometer data we refer to sleep as the longest single period of inactivity while the watch is being worn. For this data, we have guided raters with several concrete instructions:\n",
    "\n",
    "A single sleep period must be at least 30 minutes in length\n",
    "A single sleep period can be interrupted by bouts of activity that do not exceed 30 consecutive minutes\n",
    "No sleep windows can be detected unless the watch is deemed to be worn for the duration (elaborated upon, below)\n",
    "The longest sleep window during the night is the only one which is recorded\n",
    "If no valid sleep window is identifiable, neither an onset nor a wakeup event is recorded for that night.\n",
    "Sleep events do not need to straddle the day-line, and therefore there is no hard rule defining how many may occur within a given period. However, no more than one window should be assigned per night. For example, it is valid for an individual to have a sleep window from 01h00–06h00 and 19h00–23h30 in the same calendar day, though assigned to consecutive nights\n",
    "There are roughly as many nights recorded for a series as there are 24-hour periods in that series.\n",
    "Though each series is a continuous recording, there may be periods in the series when the accelerometer device was removed. These period are determined as those where suspiciously little variation in the accelerometer signals occur over an extended period of time, which is unrealistic for typical human participants. Events are not annotated for these periods, and you should attempt to refrain from making event predictions during these periods: an event prediction will be scored as false positive.\n",
    "\n",
    "Each data series represents this continuous (multi-day/event) recording for a unique experimental subject.\n",
    "\n",
    "Note that this is a Code Competition, in which the actual test set is hidden. In this public version, we give some sample data in the correct format to help you author your solutions. The full test set contains about 200 series.\n",
    "\n",
    "**Files and Field Descriptions:**\n",
    "\n",
    "- <i><u>train_series.parquet</u></i> - Series to be used as training data. Each series is a continuous recording of accelerometer data for a single subject spanning many days.\n",
    "\n",
    "    - series_id - Unique identifier for each accelerometer series.\n",
    "\n",
    "    - step - An integer timestep for each observation within a series.\n",
    "\n",
    "    - timestamp - A corresponding datetime with ISO 8601 format %Y-%m-%dT%H:%M:%S%z.\n",
    "\n",
    "    - anglez - As calculated and described by the GGIR package, z-angle is a metric derived from individual accelerometer components that is commonly used in sleep detection, and refers to the angle of the arm relative to the vertical axis of the body\n",
    "    \n",
    "    - enmo - As calculated and described by the GGIR package, ENMO is the Euclidean Norm Minus One of all accelerometer signals, with negative values rounded to zero. While no standard measure of acceleration exists in this space, this is one of the several commonly computed features\n",
    "    \n",
    "    \n",
    "- <i><u>test_series.parquet</u></i> - Series to be used as the test data, containing the same fields as above. You will predict event occurrences for series in this file.\n",
    "\n",
    "\n",
    "- <i><u>train_events.csv</u></i> - Sleep logs for series in the training set recording onset and wake events.\n",
    "\n",
    "    - series_id - Unique identifier for each series of accelerometer data in train_series.parquet.\n",
    "\n",
    "    - night - An enumeration of potential onset / wakeup event pairs. At most one pair of events can occur for each night.\n",
    "\n",
    "    - event - The type of event, whether onset or wakeup.\n",
    "\n",
    "    - step and timestamp - The recorded time of occurence of the event in the accelerometer series.\n",
    "    \n",
    "\n",
    "- <u><i>sample_submission.csv</i></u> - A sample submission file in the correct format. See the Evaluation page for more details."
   ]
  },
  {
   "cell_type": "markdown",
   "id": "a3f47967",
   "metadata": {},
   "source": [
    "## Challenges\n",
    "\n",
    "- Create the target variable"
   ]
  },
  {
   "cell_type": "markdown",
   "id": "2d5619ab",
   "metadata": {},
   "source": [
    "# Starting the Project:"
   ]
  },
  {
   "cell_type": "code",
   "execution_count": 1,
   "id": "cb7f092b",
   "metadata": {},
   "outputs": [],
   "source": [
    "# Imports:\n",
    "\n",
    "# General:\n",
    "import pandas as pd\n",
    "import numpy as np\n",
    "\n",
    "# Data Visualization:\n",
    "import matplotlib.pyplot as plt\n",
    "import seaborn as sns\n",
    "\n",
    "# models:\n",
    "\n",
    "# Fine Tunning"
   ]
  },
  {
   "cell_type": "code",
   "execution_count": null,
   "id": "fc5c4017",
   "metadata": {},
   "outputs": [],
   "source": [
    "# Loading...\n",
    "\n",
    "train_series = pd.read_parquet('train_series.parquet')\n",
    "test_series = pd.read_parquet('test_series.parquet')\n",
    "train_df = pd.read_csv('train_events.csv')\n",
    "sample = pd.read_csv('sample_submission.csv') "
   ]
  },
  {
   "cell_type": "code",
   "execution_count": null,
   "id": "da9149df",
   "metadata": {},
   "outputs": [],
   "source": [
    "train_series.head()"
   ]
  },
  {
   "cell_type": "code",
   "execution_count": null,
   "id": "67c9e1f3",
   "metadata": {},
   "outputs": [],
   "source": [
    "test_series.head()"
   ]
  },
  {
   "cell_type": "code",
   "execution_count": null,
   "id": "43c4f6c8",
   "metadata": {},
   "outputs": [],
   "source": [
    "train_df.head()"
   ]
  },
  {
   "cell_type": "code",
   "execution_count": null,
   "id": "f9c11455",
   "metadata": {},
   "outputs": [],
   "source": [
    "sample.head()"
   ]
  },
  {
   "cell_type": "markdown",
   "id": "1f0afaea",
   "metadata": {},
   "source": [
    "## Bringing down memory usage"
   ]
  },
  {
   "cell_type": "code",
   "execution_count": null,
   "id": "a752555d",
   "metadata": {},
   "outputs": [],
   "source": [
    "# To check the memory usage of the DataFrame:\n",
    "\n",
    "train_series.info(memory_usage=\"deep\")"
   ]
  },
  {
   "cell_type": "markdown",
   "id": "d7fd78e8",
   "metadata": {},
   "source": [
    "### Train_df reduction"
   ]
  },
  {
   "cell_type": "code",
   "execution_count": null,
   "id": "1749f59a",
   "metadata": {},
   "outputs": [],
   "source": [
    "# Select and change data type of columns with int64 to int8\n",
    "int64 = train_df.select_dtypes(include=['int64']).columns\n",
    "train_df[int64] = train_df[int64].astype('int8')\n",
    "\n",
    "# Select and change data type of columns with float64 to float16\n",
    "float64 = list(train_df.select_dtypes(include=['float64']).columns)\n",
    "train_df[float64] = train_df[float64].astype('float16')\n",
    "\n",
    "# Tranforming the column event type from object into boolean\n",
    "train_df['event'] = train_df['event'].map({'onset': 0, 'wakeup': 1})\n",
    "\n",
    "# Define the format string to match the datetime format\n",
    "date_format = \"%Y-%m-%dT%H:%M:%S%z\"\n",
    "\n",
    "# Convert 'datetime_str' to datetime using the specified format\n",
    "train_df['timestamp'] = pd.to_datetime(train_df['timestamp'], format=date_format, utc=True)\n",
    "\n",
    "# Transgorming the Id column type from object to int8\n",
    "id_mapping = {unique_id: i for i, unique_id in enumerate(train_df['series_id'].unique())}\n",
    "train_df['series_id'] = train_df['series_id'].map(id_mapping).astype('int8')"
   ]
  },
  {
   "cell_type": "markdown",
   "id": "08c85f97",
   "metadata": {},
   "source": [
    "### Train_series reduction"
   ]
  },
  {
   "cell_type": "code",
   "execution_count": null,
   "id": "a6ea2484",
   "metadata": {
    "scrolled": true
   },
   "outputs": [],
   "source": [
    "# To check the memory usage of the DataFrame:\n",
    "\n",
    "train_series.info(memory_usage=\"deep\")"
   ]
  },
  {
   "cell_type": "code",
   "execution_count": null,
   "id": "a8a9644f",
   "metadata": {},
   "outputs": [],
   "source": [
    "# Select and change data type of columns with int64 to int8\n",
    "int64 = train_series.select_dtypes(include=['int64']).columns\n",
    "train_series[int64] = train_series[int64].astype('int8')\n",
    "\n",
    "# Select and change data type of columns with float64 to float16\n",
    "float64 = list(train_series.select_dtypes(include=['float64']).columns)\n",
    "train_series[float64] = train_series[float64].astype('float16')\n",
    "\n",
    "# Select and change data type of columns with float32 to float16\n",
    "float32 = list(train_series.select_dtypes(include=['float32']).columns)\n",
    "train_series[float32] = train_series[float32].astype('float16')\n",
    "\n",
    "\n",
    "# Define the format string to match the datetime format\n",
    "date_format = \"%Y-%m-%dT%H:%M:%S%z\"\n",
    "\n",
    "\n",
    "# Convert 'datetime_str' to datetime using the specified format\n",
    "train_series['timestamp'] = pd.to_datetime(train_series['timestamp'].head(10000), format=date_format, utc=True)\n",
    "\n",
    "# Transgorming the Id column type from object to int8\n",
    "id_mapping = {unique_id: i for i, unique_id in enumerate(train_series['series_id'].unique())}\n",
    "train_series['series_id'] = train_series['series_id'].map(id_mapping).astype('int8')"
   ]
  },
  {
   "cell_type": "code",
   "execution_count": null,
   "id": "ffe278ff",
   "metadata": {},
   "outputs": [],
   "source": [
    "train_series_red = red_mem_usg(train_series[:10000000], series_id=True, timestamp=True)"
   ]
  },
  {
   "cell_type": "code",
   "execution_count": null,
   "id": "74fec86f",
   "metadata": {},
   "outputs": [],
   "source": []
  },
  {
   "cell_type": "code",
   "execution_count": null,
   "id": "9a43901f",
   "metadata": {},
   "outputs": [],
   "source": []
  }
 ],
 "metadata": {
  "kernelspec": {
   "display_name": "Python 3 (ipykernel)",
   "language": "python",
   "name": "python3"
  },
  "language_info": {
   "codemirror_mode": {
    "name": "ipython",
    "version": 3
   },
   "file_extension": ".py",
   "mimetype": "text/x-python",
   "name": "python",
   "nbconvert_exporter": "python",
   "pygments_lexer": "ipython3",
   "version": "3.9.13"
  }
 },
 "nbformat": 4,
 "nbformat_minor": 5
}
